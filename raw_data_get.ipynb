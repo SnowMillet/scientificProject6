{
 "cells": [
  {
   "cell_type": "code",
   "execution_count": 66,
   "outputs": [],
   "source": [
    "# 600519.XSHG 贵州茅台\n",
    "# 000858.XSHE 五粮液\n",
    "\n",
    "# 000001.XSHE 平安银行\n",
    "# 600036.XSHG 招商银行\n",
    "\n",
    "# 600104.XSHG 上汽集团\n",
    "# 600066.XSHG 宇通客车\n",
    "\n",
    "# 600085.XSHG 同仁堂\n",
    "# 600276.XSHG 恒瑞医药\n",
    "\n",
    "# 600895.XSHG 张江高科\n",
    "# 600376.XSHG 首开股份"
   ],
   "metadata": {
    "collapsed": false,
    "pycharm": {
     "name": "#%%\n"
    }
   }
  },
  {
   "cell_type": "code",
   "execution_count": 67,
   "outputs": [
    {
     "name": "stdout",
     "output_type": "stream",
     "text": [
      "data/sk_space_1d_rate_20d_22-22_raw\n"
     ]
    }
   ],
   "source": [
    "class Para:\n",
    "\n",
    "   index_code = '600376.XSHG' # eg. '000300.XSHG' 'CS' 600519.XSHG\n",
    "   stock_name = 'sk'\n",
    "   start_date = '2022-01-01'\n",
    "   end_date = '2022-03-22' # 2022-01-01\n",
    "   interval = 1\n",
    "   yield_rate_interval = 20\n",
    "\n",
    "   write_folder_path = 'data/'+stock_name+'_space_'+str(interval)+'d_rate_'+str(yield_rate_interval)+'d_'+str(start_date)[2:4]+'-'+str(end_date)[2:4]+'_raw'\n",
    "\n",
    "   # 估值\n",
    "   valuation_factor = [\n",
    "      'ep_ratio_ttm',\n",
    "      'pb_ratio_ttm',\n",
    "      'sp_ratio_ttm']\n",
    "\n",
    "   # 技术\n",
    "   technology_factor = [\n",
    "      'MACD_DIFF',\n",
    "      'MACD_DEA',\n",
    "      'MACD_HIST',\n",
    "      'RSI10',\n",
    "      'SY',\n",
    "      'BIAS20']\n",
    "\n",
    "   # 其他\n",
    "   other_factor = [\n",
    "      'VOL30',# 换手率\n",
    "      'VOL60',\n",
    "      'VOL120',\n",
    "      'VOLT20',# 波动率\n",
    "      'VOLT60',\n",
    "      'AR',# 人气意愿指标\n",
    "      'BR']\n",
    "\n",
    "   factor_list = valuation_factor + technology_factor + other_factor\n",
    "\n",
    "para = Para()\n",
    "print(para.write_folder_path)"
   ],
   "metadata": {
    "collapsed": false,
    "pycharm": {
     "name": "#%%\n"
    }
   }
  },
  {
   "cell_type": "code",
   "execution_count": 68,
   "outputs": [
    {
     "name": "stderr",
     "output_type": "stream",
     "text": [
      "c:\\users\\millet\\miniconda3\\envs\\torch1.8-gpu\\lib\\site-packages\\rqdatac\\client.py:197: UserWarning: rqdatac is already inited. Settings will be changed.\n",
      "  warnings.warn(\"rqdatac is already inited. Settings will be changed.\", stacklevel=0)\n"
     ]
    }
   ],
   "source": [
    "import rqdatac\n",
    "\n",
    "rqdatac.init()"
   ],
   "metadata": {
    "collapsed": false,
    "pycharm": {
     "name": "#%%\n"
    }
   }
  },
  {
   "cell_type": "code",
   "execution_count": 69,
   "outputs": [
    {
     "data": {
      "text/plain": "[datetime.date(2022, 1, 4),\n datetime.date(2022, 1, 5),\n datetime.date(2022, 1, 6),\n datetime.date(2022, 1, 7),\n datetime.date(2022, 1, 10),\n datetime.date(2022, 1, 11),\n datetime.date(2022, 1, 12),\n datetime.date(2022, 1, 13),\n datetime.date(2022, 1, 14),\n datetime.date(2022, 1, 17),\n datetime.date(2022, 1, 18),\n datetime.date(2022, 1, 19),\n datetime.date(2022, 1, 20),\n datetime.date(2022, 1, 21),\n datetime.date(2022, 1, 24),\n datetime.date(2022, 1, 25),\n datetime.date(2022, 1, 26),\n datetime.date(2022, 1, 27),\n datetime.date(2022, 1, 28),\n datetime.date(2022, 2, 7),\n datetime.date(2022, 2, 8),\n datetime.date(2022, 2, 9),\n datetime.date(2022, 2, 10),\n datetime.date(2022, 2, 11),\n datetime.date(2022, 2, 14),\n datetime.date(2022, 2, 15),\n datetime.date(2022, 2, 16),\n datetime.date(2022, 2, 17),\n datetime.date(2022, 2, 18),\n datetime.date(2022, 2, 21),\n datetime.date(2022, 2, 22)]"
     },
     "execution_count": 69,
     "metadata": {},
     "output_type": "execute_result"
    }
   ],
   "source": [
    "from rqdatac import get_trading_dates\n",
    "\n",
    "trading_dates_list = get_trading_dates(start_date=para.start_date, end_date=para.end_date)\n",
    "trading_dates_list_interval = trading_dates_list[0: len(trading_dates_list) - para.yield_rate_interval: para.interval]\n",
    "trading_dates_list_interval"
   ],
   "metadata": {
    "collapsed": false,
    "pycharm": {
     "name": "#%%\n"
    }
   }
  },
  {
   "cell_type": "code",
   "execution_count": 70,
   "outputs": [
    {
     "name": "stdout",
     "output_type": "stream",
     "text": [
      "\n",
      "number of trading_dates_list_interval: 0/30\n",
      "use time: 0.001024007797241211\n",
      "\n",
      "number of trading_dates_list_interval: 1/30\n",
      "use time: 0.7031164169311523\n",
      "\n",
      "number of trading_dates_list_interval: 2/30\n",
      "use time: 1.0601658821105957\n",
      "\n",
      "number of trading_dates_list_interval: 3/30\n",
      "use time: 1.4511182308197021\n",
      "\n",
      "number of trading_dates_list_interval: 4/30\n",
      "use time: 1.7965269088745117\n",
      "\n",
      "number of trading_dates_list_interval: 5/30\n",
      "use time: 2.1426024436950684\n",
      "\n",
      "number of trading_dates_list_interval: 6/30\n",
      "use time: 2.466430425643921\n",
      "\n",
      "number of trading_dates_list_interval: 7/30\n",
      "use time: 2.8344478607177734\n",
      "\n",
      "number of trading_dates_list_interval: 8/30\n",
      "use time: 3.2190184593200684\n",
      "\n",
      "number of trading_dates_list_interval: 9/30\n",
      "use time: 3.5950043201446533\n",
      "\n",
      "number of trading_dates_list_interval: 10/30\n",
      "use time: 3.9647018909454346\n",
      "\n",
      "number of trading_dates_list_interval: 11/30\n",
      "use time: 4.317758083343506\n",
      "\n",
      "number of trading_dates_list_interval: 12/30\n",
      "use time: 4.683778762817383\n",
      "\n",
      "number of trading_dates_list_interval: 13/30\n",
      "use time: 5.04282021522522\n",
      "\n",
      "number of trading_dates_list_interval: 14/30\n",
      "use time: 5.416649580001831\n",
      "\n",
      "number of trading_dates_list_interval: 15/30\n",
      "use time: 5.801615476608276\n",
      "\n",
      "number of trading_dates_list_interval: 16/30\n",
      "use time: 6.157557487487793\n",
      "\n",
      "number of trading_dates_list_interval: 17/30\n",
      "use time: 6.5175909996032715\n",
      "\n",
      "number of trading_dates_list_interval: 18/30\n",
      "use time: 6.9215521812438965\n",
      "\n",
      "number of trading_dates_list_interval: 19/30\n",
      "use time: 7.409206390380859\n",
      "\n",
      "number of trading_dates_list_interval: 20/30\n",
      "use time: 7.791703224182129\n",
      "\n",
      "number of trading_dates_list_interval: 21/30\n",
      "use time: 8.149742364883423\n",
      "\n",
      "number of trading_dates_list_interval: 22/30\n",
      "use time: 8.65014362335205\n",
      "\n",
      "number of trading_dates_list_interval: 23/30\n",
      "use time: 8.972593307495117\n",
      "\n",
      "number of trading_dates_list_interval: 24/30\n",
      "use time: 9.296291828155518\n",
      "\n",
      "number of trading_dates_list_interval: 25/30\n",
      "use time: 9.619433879852295\n",
      "\n",
      "number of trading_dates_list_interval: 26/30\n",
      "use time: 10.178910255432129\n",
      "\n",
      "number of trading_dates_list_interval: 27/30\n",
      "use time: 10.527777194976807\n",
      "\n",
      "number of trading_dates_list_interval: 28/30\n",
      "use time: 10.892795324325562\n",
      "\n",
      "number of trading_dates_list_interval: 29/30\n",
      "use time: 11.253831386566162\n",
      "\n",
      "number of trading_dates_list_interval: 30/30\n",
      "use time: 11.650769472122192\n",
      "\n",
      "Done!\n"
     ]
    }
   ],
   "source": [
    "from my_utils.data_process import remove_st\n",
    "from rqdatac import index_components, get_factor, get_price, is_suspended, get_next_trading_date, instruments, all_instruments\n",
    "import time\n",
    "import datetime\n",
    "import numpy as np\n",
    "import pandas as pd\n",
    "\n",
    "time_begin = time.time()\n",
    "for j in range(len(trading_dates_list_interval)):\n",
    "\n",
    "    print()\n",
    "    print(\"number of trading_dates_list_interval: {}/{}\".format(j, len(trading_dates_list_interval)-1))\n",
    "    print(\"use time: {}\".format(time.time()-time_begin))\n",
    "\n",
    "    date = trading_dates_list_interval[j]\n",
    "\n",
    "    # 全部股票\n",
    "    if para.index_code == 'CS':\n",
    "        stocks_list = all_instruments(type=para.index_code, date=date)['order_book_id'].values.tolist()\n",
    "    # hs300\n",
    "    elif para.index_code == '000300.XSHG':\n",
    "        stocks_list = index_components(order_book_id=para.index_code, date=date)\n",
    "    # 个股\n",
    "    else:\n",
    "        stocks_list = [para.index_code]\n",
    "\n",
    "    # 剔除 ST 股票\n",
    "    stocks_list_no_st = remove_st(stocks_list=stocks_list, date=date)\n",
    "    # 获取因子\n",
    "    df = get_factor(order_book_ids=stocks_list_no_st, factor=para.factor_list, date=date)\n",
    "    # 处理多级索引\n",
    "    df = df.reset_index(level='date')\n",
    "    # 插入 month 列\n",
    "    df.insert(loc=0, column='month', value=j)\n",
    "    # 插入收益率列\n",
    "    df.insert(loc=0, column='yield_rate', value=np.nan)\n",
    "    # 插入行业类别列\n",
    "    df.insert(loc=0, column='sector_code', value=np.nan)\n",
    "    # 插入板块类别列\n",
    "    df.insert(loc=0, column='board_type', value=np.nan)\n",
    "\n",
    "    # 遍历当前截面的每只股票\n",
    "    for i in df.index.values.tolist():\n",
    "\n",
    "        # 获取行业和板块信息\n",
    "        df.loc[i, 'sector_code'] = instruments(order_book_ids=i).sector_code\n",
    "        df.loc[i, 'board_type'] = instruments(order_book_ids=i).board_type\n",
    "\n",
    "        # 获取当前日期和未来日期\n",
    "        day = trading_dates_list_interval[df.loc[i, 'month']]\n",
    "        day_interval = get_next_trading_date(date=day, n=para.yield_rate_interval)\n",
    "\n",
    "        # 获取当前日期和未来日期停牌状态\n",
    "        day_is_suspended = bool(is_suspended(order_book_ids=i, start_date=day, end_date=day).values[0][0])\n",
    "        day_interval_is_suspended = bool(is_suspended(order_book_ids=i, start_date=day, end_date=day).values[0][0])\n",
    "\n",
    "        # 判断是否停牌\n",
    "        if day_is_suspended == False and day_interval_is_suspended == False:\n",
    "\n",
    "            # 获取当前日期和未来日期的价格\n",
    "            day_price = get_price(order_book_ids=i, start_date=day, end_date=day, fields='close')\n",
    "            day_interval_price = get_price(order_book_ids=i, start_date=day_interval, end_date=day_interval, fields='close')\n",
    "\n",
    "            # 判断是否数据缺失\n",
    "            if day_price is None or day_interval_price is None:\n",
    "                print(\"day_price or day_interval_price is None: {}\".format(i))\n",
    "            else:\n",
    "                # 判断距离上市天数\n",
    "                listed_date = datetime.datetime.strptime(instruments(order_book_ids=i).listed_date, '%Y-%m-%d').date()\n",
    "                how_long_listed = (trading_dates_list_interval[j]-listed_date).days\n",
    "\n",
    "                if how_long_listed > 90:\n",
    "                    yield_rate = day_interval_price['close'].item() / day_price['close'].item() - 1\n",
    "                    df.loc[i, 'yield_rate'] = yield_rate\n",
    "                else:\n",
    "                    print('how_long_listed <= 90d: {}'.format(i))\n",
    "\n",
    "        else:\n",
    "            print(\"day_is_suspended or day_interval_is_suspended == True: {}\".format(i))\n",
    "\n",
    "    # 写入文件\n",
    "    df.to_csv(para.write_folder_path + '/' + str(j) + '.csv')\n",
    "\n",
    "print()\n",
    "print('Done!')"
   ],
   "metadata": {
    "collapsed": false,
    "pycharm": {
     "name": "#%%\n"
    }
   }
  }
 ],
 "metadata": {
  "kernelspec": {
   "display_name": "Python 3",
   "language": "python",
   "name": "python3"
  },
  "language_info": {
   "codemirror_mode": {
    "name": "ipython",
    "version": 2
   },
   "file_extension": ".py",
   "mimetype": "text/x-python",
   "name": "python",
   "nbconvert_exporter": "python",
   "pygments_lexer": "ipython2",
   "version": "2.7.6"
  }
 },
 "nbformat": 4,
 "nbformat_minor": 0
}